{
 "cells": [
  {
   "cell_type": "code",
   "execution_count": 50,
   "id": "ac5aecf2-fe40-44dc-93ec-29637cad17e7",
   "metadata": {},
   "outputs": [],
   "source": [
    "import pandas as pd\n",
    "import numpy as np\n",
    "from sklearn.model_selection import train_test_split\n",
    "from sklearn.linear_model import LogisticRegression\n",
    "from sklearn.metrics import accuracy_score, confusion_matrix"
   ]
  },
  {
   "cell_type": "code",
   "execution_count": 51,
   "id": "0954716d-066d-4429-9be8-967128698d75",
   "metadata": {},
   "outputs": [
    {
     "data": {
      "text/html": [
       "<div>\n",
       "<style scoped>\n",
       "    .dataframe tbody tr th:only-of-type {\n",
       "        vertical-align: middle;\n",
       "    }\n",
       "\n",
       "    .dataframe tbody tr th {\n",
       "        vertical-align: top;\n",
       "    }\n",
       "\n",
       "    .dataframe thead th {\n",
       "        text-align: right;\n",
       "    }\n",
       "</style>\n",
       "<table border=\"1\" class=\"dataframe\">\n",
       "  <thead>\n",
       "    <tr style=\"text-align: right;\">\n",
       "      <th></th>\n",
       "      <th>accountAgeDays</th>\n",
       "      <th>numItems</th>\n",
       "      <th>localTime</th>\n",
       "      <th>paymentMethod</th>\n",
       "      <th>paymentMethodAgeDays</th>\n",
       "      <th>label</th>\n",
       "    </tr>\n",
       "  </thead>\n",
       "  <tbody>\n",
       "    <tr>\n",
       "      <th>0</th>\n",
       "      <td>29</td>\n",
       "      <td>1</td>\n",
       "      <td>4.745402</td>\n",
       "      <td>paypal</td>\n",
       "      <td>28.204861</td>\n",
       "      <td>0</td>\n",
       "    </tr>\n",
       "    <tr>\n",
       "      <th>1</th>\n",
       "      <td>725</td>\n",
       "      <td>1</td>\n",
       "      <td>4.742303</td>\n",
       "      <td>storecredit</td>\n",
       "      <td>0.000000</td>\n",
       "      <td>0</td>\n",
       "    </tr>\n",
       "    <tr>\n",
       "      <th>2</th>\n",
       "      <td>845</td>\n",
       "      <td>1</td>\n",
       "      <td>4.921318</td>\n",
       "      <td>creditcard</td>\n",
       "      <td>0.000000</td>\n",
       "      <td>0</td>\n",
       "    </tr>\n",
       "    <tr>\n",
       "      <th>3</th>\n",
       "      <td>503</td>\n",
       "      <td>1</td>\n",
       "      <td>4.886641</td>\n",
       "      <td>creditcard</td>\n",
       "      <td>0.000000</td>\n",
       "      <td>0</td>\n",
       "    </tr>\n",
       "    <tr>\n",
       "      <th>4</th>\n",
       "      <td>2000</td>\n",
       "      <td>1</td>\n",
       "      <td>5.040929</td>\n",
       "      <td>creditcard</td>\n",
       "      <td>0.000000</td>\n",
       "      <td>0</td>\n",
       "    </tr>\n",
       "  </tbody>\n",
       "</table>\n",
       "</div>"
      ],
      "text/plain": [
       "   accountAgeDays  numItems  localTime paymentMethod  paymentMethodAgeDays  \\\n",
       "0              29         1   4.745402        paypal             28.204861   \n",
       "1             725         1   4.742303   storecredit              0.000000   \n",
       "2             845         1   4.921318    creditcard              0.000000   \n",
       "3             503         1   4.886641    creditcard              0.000000   \n",
       "4            2000         1   5.040929    creditcard              0.000000   \n",
       "\n",
       "   label  \n",
       "0      0  \n",
       "1      0  \n",
       "2      0  \n",
       "3      0  \n",
       "4      0  "
      ]
     },
     "execution_count": 51,
     "metadata": {},
     "output_type": "execute_result"
    }
   ],
   "source": [
    "df = pd.read_csv('payment_fraud.csv', header=0)\n",
    "df.head()"
   ]
  },
  {
   "cell_type": "code",
   "execution_count": 52,
   "id": "5a170499-24ac-4435-a01b-a7518413dca0",
   "metadata": {},
   "outputs": [
    {
     "data": {
      "text/plain": [
       "accountAgeDays            int64\n",
       "numItems                  int64\n",
       "localTime               float64\n",
       "paymentMethod            object\n",
       "paymentMethodAgeDays    float64\n",
       "label                     int64\n",
       "dtype: object"
      ]
     },
     "execution_count": 52,
     "metadata": {},
     "output_type": "execute_result"
    }
   ],
   "source": [
    "df.dtypes"
   ]
  },
  {
   "cell_type": "code",
   "execution_count": 53,
   "id": "c53d2fb1-4641-437a-84e9-a41927d2cd93",
   "metadata": {},
   "outputs": [
    {
     "data": {
      "text/plain": [
       "array(['paypal', 'storecredit', 'creditcard'], dtype=object)"
      ]
     },
     "execution_count": 53,
     "metadata": {},
     "output_type": "execute_result"
    }
   ],
   "source": [
    "df['paymentMethod'].unique()"
   ]
  },
  {
   "cell_type": "code",
   "execution_count": 56,
   "id": "a37dd9f4-0c0c-44f9-9501-dd5ce7870de6",
   "metadata": {},
   "outputs": [],
   "source": [
    "#encode [paymentMethod] column\n",
    "from sklearn.preprocessing import LabelEncoder\n",
    "df['paymentMethod'] = df['paymentMethod'].astype('str')\n",
    "df[['paymentMethod']]=df[['paymentMethod']].apply(LabelEncoder().fit_transform)"
   ]
  },
  {
   "cell_type": "markdown",
   "id": "1b287630-8c94-4c6b-befa-ceadc7f942f8",
   "metadata": {},
   "source": [
    "<p> we select Logestic Regression for this problem as the we targeting binary classification (fraud or not fraud)</p>"
   ]
  },
  {
   "cell_type": "code",
   "execution_count": 58,
   "id": "165a7752-7b3a-4383-b808-5e7db69c364d",
   "metadata": {},
   "outputs": [],
   "source": [
    "#train test split\n",
    "X_train, X_test, y_train, y_test = train_test_split(\n",
    "    df.drop('label', axis=1), df['label'],\n",
    "    test_size=0.33, random_state=17)"
   ]
  },
  {
   "cell_type": "code",
   "execution_count": 59,
   "id": "0795b7dd-1230-47e3-99cd-e1e9d5064b13",
   "metadata": {},
   "outputs": [
    {
     "data": {
      "text/plain": [
       "13272    0\n",
       "22716    0\n",
       "30255    0\n",
       "7676     0\n",
       "15105    0\n",
       "        ..\n",
       "31044    0\n",
       "25631    0\n",
       "33174    0\n",
       "34959    0\n",
       "10863    0\n",
       "Name: label, Length: 26278, dtype: int64"
      ]
     },
     "execution_count": 59,
     "metadata": {},
     "output_type": "execute_result"
    }
   ],
   "source": [
    "y_train"
   ]
  },
  {
   "cell_type": "code",
   "execution_count": 60,
   "id": "719cd179-7b9e-44fe-b8cb-3cbed9bc2ec5",
   "metadata": {},
   "outputs": [
    {
     "name": "stdout",
     "output_type": "stream",
     "text": [
      "1.0\n"
     ]
    }
   ],
   "source": [
    "clf = LogisticRegression()\n",
    "\n",
    "clf.fit(X_train, y_train)\n",
    "# Make predictions on test set\n",
    "y_pred = clf.predict(X_test)\n",
    "from sklearn.metrics import accuracy_score\n",
    "print(accuracy_score(y_pred, y_test)) \n",
    "\n",
    "\n"
   ]
  },
  {
   "cell_type": "markdown",
   "id": "09d6e865-8233-4de6-bb96-8e36f9cbd6f1",
   "metadata": {},
   "source": [
    "<p>Wow ,model gave an accuracy of 100 per cent by using the logistic regression algorithm</p>"
   ]
  },
  {
   "cell_type": "markdown",
   "id": "a1b9cf91-5c56-4d3c-abca-f557f800aa3c",
   "metadata": {},
   "source": [
    "<h3> model evaluation</h3>\n",
    "\n",
    "<p>usually evaluation done with x_test and y_pred</p>"
   ]
  },
  {
   "cell_type": "code",
   "execution_count": 61,
   "id": "783a9d5c-6ad3-44e0-a046-bfd54b5367b0",
   "metadata": {},
   "outputs": [
    {
     "name": "stdout",
     "output_type": "stream",
     "text": [
      "[[12753     0]\n",
      " [    0   190]]\n"
     ]
    }
   ],
   "source": [
    "print(confusion_matrix(y_test, y_pred))"
   ]
  },
  {
   "cell_type": "markdown",
   "id": "82d63bec-6c40-4aa0-8fa0-ab1c53c6ba69",
   "metadata": {},
   "source": [
    "<p>190 of transactions are fraudulent and 12753 are not fraudulant</p>"
   ]
  },
  {
   "cell_type": "code",
   "execution_count": null,
   "id": "48ff63e1-ad81-453e-bb7f-f952ffda64a8",
   "metadata": {},
   "outputs": [],
   "source": []
  }
 ],
 "metadata": {
  "kernelspec": {
   "display_name": "Python 3 (ipykernel)",
   "language": "python",
   "name": "python3"
  },
  "language_info": {
   "codemirror_mode": {
    "name": "ipython",
    "version": 3
   },
   "file_extension": ".py",
   "mimetype": "text/x-python",
   "name": "python",
   "nbconvert_exporter": "python",
   "pygments_lexer": "ipython3",
   "version": "3.11.4"
  }
 },
 "nbformat": 4,
 "nbformat_minor": 5
}
